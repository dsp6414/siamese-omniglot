{
 "cells": [
  {
   "cell_type": "markdown",
   "metadata": {},
   "source": [
    "## Initializations"
   ]
  },
  {
   "cell_type": "code",
   "execution_count": 1,
   "metadata": {},
   "outputs": [
    {
     "name": "stdout",
     "output_type": "stream",
     "text": [
      "ln: failed to create symbolic link './fastai': File exists\r\n"
     ]
    }
   ],
   "source": [
    "!ln -s ../fastai/"
   ]
  },
  {
   "cell_type": "code",
   "execution_count": 1,
   "metadata": {
    "collapsed": true
   },
   "outputs": [],
   "source": [
    "%reload_ext autoreload\n",
    "%autoreload 2"
   ]
  },
  {
   "cell_type": "code",
   "execution_count": 12,
   "metadata": {},
   "outputs": [
    {
     "name": "stdout",
     "output_type": "stream",
     "text": [
      "Collecting torchtext\n",
      "\u001b[?25l  Downloading https://files.pythonhosted.org/packages/78/90/474d5944d43001a6e72b9aaed5c3e4f77516fbef2317002da2096fd8b5ea/torchtext-0.2.3.tar.gz (42kB)\n",
      "\u001b[K    100% |████████████████████████████████| 51kB 410kB/s ta 0:00:01\n",
      "\u001b[?25hRequirement already satisfied: tqdm in /Users/vinodreddy/anaconda3/lib/python3.6/site-packages (from torchtext) (4.23.0)\n",
      "Requirement already satisfied: requests in /Users/vinodreddy/anaconda3/lib/python3.6/site-packages (from torchtext) (2.18.4)\n",
      "Requirement already satisfied: chardet<3.1.0,>=3.0.2 in /Users/vinodreddy/anaconda3/lib/python3.6/site-packages (from requests->torchtext) (3.0.4)\n",
      "Requirement already satisfied: idna<2.7,>=2.5 in /Users/vinodreddy/anaconda3/lib/python3.6/site-packages (from requests->torchtext) (2.6)\n",
      "Requirement already satisfied: urllib3<1.23,>=1.21.1 in /Users/vinodreddy/anaconda3/lib/python3.6/site-packages (from requests->torchtext) (1.22)\n",
      "Requirement already satisfied: certifi>=2017.4.17 in /Users/vinodreddy/anaconda3/lib/python3.6/site-packages (from requests->torchtext) (2018.1.18)\n",
      "Building wheels for collected packages: torchtext\n",
      "  Running setup.py bdist_wheel for torchtext ... \u001b[?25ldone\n",
      "\u001b[?25h  Stored in directory: /Users/vinodreddy/Library/Caches/pip/wheels/42/a6/f4/b267328bde6bb680094a0c173e8e5627ccc99543abded97204\n",
      "Successfully built torchtext\n",
      "Installing collected packages: torchtext\n",
      "Successfully installed torchtext-0.2.3\n"
     ]
    }
   ],
   "source": [
    "!pip install torchtext"
   ]
  },
  {
   "cell_type": "code",
   "execution_count": 13,
   "metadata": {},
   "outputs": [],
   "source": [
    "from fastai.conv_learner import *"
   ]
  },
  {
   "cell_type": "code",
   "execution_count": 14,
   "metadata": {
    "collapsed": true
   },
   "outputs": [],
   "source": [
    "sz = 105"
   ]
  },
  {
   "cell_type": "markdown",
   "metadata": {},
   "source": [
    "## Model Definition"
   ]
  },
  {
   "cell_type": "code",
   "execution_count": 15,
   "metadata": {
    "collapsed": true
   },
   "outputs": [],
   "source": [
    "class Basenet(nn.Module):\n",
    "    def __init__(self):\n",
    "        super().__init__()\n",
    "\n",
    "        \n",
    "        self.cnn = nn.Sequential(\n",
    "            nn.Conv2d(3, 8, kernel_size=7, padding=3),\n",
    "            nn.ReLU(inplace=True),\n",
    "            nn.BatchNorm2d(8),\n",
    "            \n",
    "            nn.Conv2d(8, 16, kernel_size=5, padding=2),\n",
    "            nn.ReLU(inplace=True),\n",
    "            nn.BatchNorm2d(16),\n",
    "            \n",
    "            nn.Conv2d(16, 32, kernel_size=3),\n",
    "            nn.ReLU(inplace=True),\n",
    "            nn.BatchNorm2d(32),\n",
    "\n",
    "            nn.Conv2d(32, 32, kernel_size=3, stride=2),\n",
    "            nn.ReLU(inplace=True),\n",
    "            nn.BatchNorm2d(32),\n",
    "            \n",
    "            nn.Conv2d(32, 64, kernel_size=3, stride=2),\n",
    "            nn.ReLU(inplace=True),\n",
    "            nn.BatchNorm2d(64),\n",
    "            \n",
    "            nn.Conv2d(64, 64, kernel_size=3, stride=2),\n",
    "            nn.ReLU(inplace=True),\n",
    "            nn.BatchNorm2d(64),\n",
    "        )\n",
    "        \n",
    "        self.drop = nn.Dropout(0.5)\n",
    "        \n",
    "        self.max_pool = nn.AdaptiveMaxPool2d((4,4))\n",
    "        self.avg_pool = nn.AdaptiveAvgPool2d((4,4))\n",
    "        self.lin = nn.Linear(2048, 100)\n",
    "        \n",
    "    \n",
    "    def forward(self, x):\n",
    "        x = self.cnn(x)\n",
    "        ax = self.avg_pool(x).view((x.shape[0], -1))\n",
    "        mx = self.max_pool(x).view((x.shape[0], -1))\n",
    "        x = torch.cat([ax, mx], dim=1)\n",
    "        x = F.relu(self.lin(x))\n",
    "        return x\n",
    "        \n",
    "class SiameseNet(nn.Module):\n",
    "    def __init__(self):\n",
    "        super().__init__()\n",
    "        self.base = Basenet()\n",
    "        self.lin = nn.Linear(100, 2)\n",
    "    \n",
    "    def forward(self, x1, x2):\n",
    "        x1, x2 = self.base(x1), self.base(x2)\n",
    "        x = torch.abs(x1-x2)\n",
    "        return F.log_softmax(self.lin(x), dim=-1)"
   ]
  },
  {
   "cell_type": "code",
   "execution_count": 16,
   "metadata": {},
   "outputs": [
    {
     "data": {
      "text/plain": [
       "OrderedDict([('Conv2d-1',\n",
       "              OrderedDict([('input_shape', [-1, 3, 105, 105]),\n",
       "                           ('output_shape', [-1, 8, 105, 105]),\n",
       "                           ('trainable', True),\n",
       "                           ('nb_params', 1184)])),\n",
       "             ('ReLU-2',\n",
       "              OrderedDict([('input_shape', [-1, 8, 105, 105]),\n",
       "                           ('output_shape', [-1, 8, 105, 105]),\n",
       "                           ('nb_params', 0)])),\n",
       "             ('BatchNorm2d-3',\n",
       "              OrderedDict([('input_shape', [-1, 8, 105, 105]),\n",
       "                           ('output_shape', [-1, 8, 105, 105]),\n",
       "                           ('trainable', True),\n",
       "                           ('nb_params', 16)])),\n",
       "             ('Conv2d-4',\n",
       "              OrderedDict([('input_shape', [-1, 8, 105, 105]),\n",
       "                           ('output_shape', [-1, 16, 105, 105]),\n",
       "                           ('trainable', True),\n",
       "                           ('nb_params', 3216)])),\n",
       "             ('ReLU-5',\n",
       "              OrderedDict([('input_shape', [-1, 16, 105, 105]),\n",
       "                           ('output_shape', [-1, 16, 105, 105]),\n",
       "                           ('nb_params', 0)])),\n",
       "             ('BatchNorm2d-6',\n",
       "              OrderedDict([('input_shape', [-1, 16, 105, 105]),\n",
       "                           ('output_shape', [-1, 16, 105, 105]),\n",
       "                           ('trainable', True),\n",
       "                           ('nb_params', 32)])),\n",
       "             ('Conv2d-7',\n",
       "              OrderedDict([('input_shape', [-1, 16, 105, 105]),\n",
       "                           ('output_shape', [-1, 32, 103, 103]),\n",
       "                           ('trainable', True),\n",
       "                           ('nb_params', 4640)])),\n",
       "             ('ReLU-8',\n",
       "              OrderedDict([('input_shape', [-1, 32, 103, 103]),\n",
       "                           ('output_shape', [-1, 32, 103, 103]),\n",
       "                           ('nb_params', 0)])),\n",
       "             ('BatchNorm2d-9',\n",
       "              OrderedDict([('input_shape', [-1, 32, 103, 103]),\n",
       "                           ('output_shape', [-1, 32, 103, 103]),\n",
       "                           ('trainable', True),\n",
       "                           ('nb_params', 64)])),\n",
       "             ('Conv2d-10',\n",
       "              OrderedDict([('input_shape', [-1, 32, 103, 103]),\n",
       "                           ('output_shape', [-1, 32, 51, 51]),\n",
       "                           ('trainable', True),\n",
       "                           ('nb_params', 9248)])),\n",
       "             ('ReLU-11',\n",
       "              OrderedDict([('input_shape', [-1, 32, 51, 51]),\n",
       "                           ('output_shape', [-1, 32, 51, 51]),\n",
       "                           ('nb_params', 0)])),\n",
       "             ('BatchNorm2d-12',\n",
       "              OrderedDict([('input_shape', [-1, 32, 51, 51]),\n",
       "                           ('output_shape', [-1, 32, 51, 51]),\n",
       "                           ('trainable', True),\n",
       "                           ('nb_params', 64)])),\n",
       "             ('Conv2d-13',\n",
       "              OrderedDict([('input_shape', [-1, 32, 51, 51]),\n",
       "                           ('output_shape', [-1, 64, 25, 25]),\n",
       "                           ('trainable', True),\n",
       "                           ('nb_params', 18496)])),\n",
       "             ('ReLU-14',\n",
       "              OrderedDict([('input_shape', [-1, 64, 25, 25]),\n",
       "                           ('output_shape', [-1, 64, 25, 25]),\n",
       "                           ('nb_params', 0)])),\n",
       "             ('BatchNorm2d-15',\n",
       "              OrderedDict([('input_shape', [-1, 64, 25, 25]),\n",
       "                           ('output_shape', [-1, 64, 25, 25]),\n",
       "                           ('trainable', True),\n",
       "                           ('nb_params', 128)])),\n",
       "             ('Conv2d-16',\n",
       "              OrderedDict([('input_shape', [-1, 64, 25, 25]),\n",
       "                           ('output_shape', [-1, 64, 12, 12]),\n",
       "                           ('trainable', True),\n",
       "                           ('nb_params', 36928)])),\n",
       "             ('ReLU-17',\n",
       "              OrderedDict([('input_shape', [-1, 64, 12, 12]),\n",
       "                           ('output_shape', [-1, 64, 12, 12]),\n",
       "                           ('nb_params', 0)])),\n",
       "             ('BatchNorm2d-18',\n",
       "              OrderedDict([('input_shape', [-1, 64, 12, 12]),\n",
       "                           ('output_shape', [-1, 64, 12, 12]),\n",
       "                           ('trainable', True),\n",
       "                           ('nb_params', 128)])),\n",
       "             ('AdaptiveAvgPool2d-19',\n",
       "              OrderedDict([('input_shape', [-1, 64, 12, 12]),\n",
       "                           ('output_shape', [-1, 64, 4, 4]),\n",
       "                           ('nb_params', 0)])),\n",
       "             ('AdaptiveMaxPool2d-20',\n",
       "              OrderedDict([('input_shape', [-1, 64, 12, 12]),\n",
       "                           ('output_shape', [-1, 64, 4, 4]),\n",
       "                           ('nb_params', 0)])),\n",
       "             ('Linear-21',\n",
       "              OrderedDict([('input_shape', [-1, 2048]),\n",
       "                           ('output_shape', [-1, 100]),\n",
       "                           ('trainable', True),\n",
       "                           ('nb_params', 204900)]))])"
      ]
     },
     "execution_count": 16,
     "metadata": {},
     "output_type": "execute_result"
    }
   ],
   "source": [
    "b = Basenet()\n",
    "model_summary(b, (3,105,105))"
   ]
  },
  {
   "cell_type": "code",
   "execution_count": 17,
   "metadata": {
    "collapsed": true
   },
   "outputs": [],
   "source": [
    "snet = SiameseNet()"
   ]
  },
  {
   "cell_type": "code",
   "execution_count": 18,
   "metadata": {
    "collapsed": true
   },
   "outputs": [],
   "source": [
    "tfms = tfms_from_stats(inception_stats, sz, crop_type=CropType.NO, aug_tfms=[RandomRotateZoom(10, 1.1, 1.1)])\n",
    "data = ImageClassifierData.from_paths('./data/', bs=32, tfms=tfms, is_siamese=True, val_name='test')"
   ]
  },
  {
   "cell_type": "code",
   "execution_count": 19,
   "metadata": {
    "collapsed": true
   },
   "outputs": [],
   "source": [
    "learn = Learner.from_model_data(snet, data)"
   ]
  },
  {
   "cell_type": "code",
   "execution_count": 20,
   "metadata": {
    "collapsed": true
   },
   "outputs": [],
   "source": [
    "learn.crit = F.nll_loss"
   ]
  },
  {
   "cell_type": "code",
   "execution_count": 21,
   "metadata": {
    "collapsed": true
   },
   "outputs": [],
   "source": [
    "learn.metrics = [accuracy]"
   ]
  },
  {
   "cell_type": "code",
   "execution_count": 22,
   "metadata": {},
   "outputs": [
    {
     "data": {
      "application/vnd.jupyter.widget-view+json": {
       "model_id": "50fde4811ca34eecbd5b98786511723a",
       "version_major": 2,
       "version_minor": 0
      },
      "text/plain": [
       "A Jupyter Widget"
      ]
     },
     "metadata": {},
     "output_type": "display_data"
    },
    {
     "name": "stdout",
     "output_type": "stream",
     "text": [
      " 82%|████████▏ | 144/175 [08:55<01:55,  3.72s/it, loss=7.38] "
     ]
    }
   ],
   "source": [
    "learn.lr_find()\n",
    "learn.sched.plot()"
   ]
  },
  {
   "cell_type": "code",
   "execution_count": 25,
   "metadata": {},
   "outputs": [
    {
     "data": {
      "application/vnd.jupyter.widget-view+json": {
       "model_id": "1da168b7fb1540ef9372a7094eb1294f",
       "version_major": 2,
       "version_minor": 0
      },
      "text/html": [
       "<p>Failed to display Jupyter Widget of type <code>HBox</code>.</p>\n",
       "<p>\n",
       "  If you're reading this message in the Jupyter Notebook or JupyterLab Notebook, it may mean\n",
       "  that the widgets JavaScript is still loading. If this message persists, it\n",
       "  likely means that the widgets JavaScript library is either not installed or\n",
       "  not enabled. See the <a href=\"https://ipywidgets.readthedocs.io/en/stable/user_install.html\">Jupyter\n",
       "  Widgets Documentation</a> for setup instructions.\n",
       "</p>\n",
       "<p>\n",
       "  If you're reading this message in another frontend (for example, a static\n",
       "  rendering on GitHub or <a href=\"https://nbviewer.jupyter.org/\">NBViewer</a>),\n",
       "  it may mean that your frontend doesn't currently support widgets.\n",
       "</p>\n"
      ],
      "text/plain": [
       "HBox(children=(IntProgress(value=0, description='Epoch', max=7), HTML(value='')))"
      ]
     },
     "metadata": {},
     "output_type": "display_data"
    },
    {
     "name": "stdout",
     "output_type": "stream",
     "text": [
      " 30%|███       | 53/175 [00:07<00:16,  7.34it/s, loss=0.675]\n",
      " 31%|███▏      | 55/175 [00:07<00:16,  7.48it/s, loss=0.673]"
     ]
    },
    {
     "name": "stderr",
     "output_type": "stream",
     "text": [
      "Exception in thread Thread-20:\n",
      "Traceback (most recent call last):\n",
      "  File \"/opt/conda/envs/fastai/lib/python3.6/threading.py\", line 916, in _bootstrap_inner\n",
      "    self.run()\n",
      "  File \"/opt/conda/envs/fastai/lib/python3.6/site-packages/tqdm/_tqdm.py\", line 144, in run\n",
      "    for instance in self.tqdm_cls._instances:\n",
      "  File \"/opt/conda/envs/fastai/lib/python3.6/_weakrefset.py\", line 60, in __iter__\n",
      "    for itemref in self.data:\n",
      "RuntimeError: Set changed size during iteration\n",
      "\n"
     ]
    },
    {
     "name": "stdout",
     "output_type": "stream",
     "text": [
      "epoch      trn_loss   val_loss   accuracy                    \n",
      "    0      0.60905    0.542019   0.769464  \n",
      "    1      0.508191   0.379755   0.8525                      \n",
      "    2      0.410546   0.357202   0.860893                    \n",
      "    3      0.434759   0.313215   0.87625                     \n",
      "    4      0.356688   0.284568   0.884286                    \n",
      "    5      0.296284   0.251317   0.899821                    \n",
      "    6      0.260418   0.242822   0.903214                    \n",
      "\n"
     ]
    },
    {
     "data": {
      "text/plain": [
       "[array([0.24282]), 0.9032142857142857]"
      ]
     },
     "execution_count": 25,
     "metadata": {},
     "output_type": "execute_result"
    }
   ],
   "source": [
    "learn.fit(0.01, 3, cycle_len=1, cycle_mult=2)"
   ]
  },
  {
   "cell_type": "code",
   "execution_count": 26,
   "metadata": {},
   "outputs": [
    {
     "data": {
      "application/vnd.jupyter.widget-view+json": {
       "model_id": "6bd7d55a16c146a8a717e874bd8dac05",
       "version_major": 2,
       "version_minor": 0
      },
      "text/html": [
       "<p>Failed to display Jupyter Widget of type <code>HBox</code>.</p>\n",
       "<p>\n",
       "  If you're reading this message in the Jupyter Notebook or JupyterLab Notebook, it may mean\n",
       "  that the widgets JavaScript is still loading. If this message persists, it\n",
       "  likely means that the widgets JavaScript library is either not installed or\n",
       "  not enabled. See the <a href=\"https://ipywidgets.readthedocs.io/en/stable/user_install.html\">Jupyter\n",
       "  Widgets Documentation</a> for setup instructions.\n",
       "</p>\n",
       "<p>\n",
       "  If you're reading this message in another frontend (for example, a static\n",
       "  rendering on GitHub or <a href=\"https://nbviewer.jupyter.org/\">NBViewer</a>),\n",
       "  it may mean that your frontend doesn't currently support widgets.\n",
       "</p>\n"
      ],
      "text/plain": [
       "HBox(children=(IntProgress(value=0, description='Epoch', max=1), HTML(value='')))"
      ]
     },
     "metadata": {},
     "output_type": "display_data"
    },
    {
     "name": "stdout",
     "output_type": "stream",
     "text": [
      " 78%|███████▊  | 137/175 [00:18<00:05,  7.54it/s, loss=0.982]"
     ]
    },
    {
     "data": {
      "image/png": "[encoded data removed]",
      "text/plain": [
       "<matplotlib.figure.Figure at 0x7f161c00e588>"
      ]
     },
     "metadata": {},
     "output_type": "display_data"
    }
   ],
   "source": [
    "learn.lr_find()\n",
    "learn.sched.plot()"
   ]
  },
  {
   "cell_type": "code",
   "execution_count": 27,
   "metadata": {},
   "outputs": [
    {
     "data": {
      "application/vnd.jupyter.widget-view+json": {
       "model_id": "0c6c271b0cda42258eca74db007b32e1",
       "version_major": 2,
       "version_minor": 0
      },
      "text/html": [
       "<p>Failed to display Jupyter Widget of type <code>HBox</code>.</p>\n",
       "<p>\n",
       "  If you're reading this message in the Jupyter Notebook or JupyterLab Notebook, it may mean\n",
       "  that the widgets JavaScript is still loading. If this message persists, it\n",
       "  likely means that the widgets JavaScript library is either not installed or\n",
       "  not enabled. See the <a href=\"https://ipywidgets.readthedocs.io/en/stable/user_install.html\">Jupyter\n",
       "  Widgets Documentation</a> for setup instructions.\n",
       "</p>\n",
       "<p>\n",
       "  If you're reading this message in another frontend (for example, a static\n",
       "  rendering on GitHub or <a href=\"https://nbviewer.jupyter.org/\">NBViewer</a>),\n",
       "  it may mean that your frontend doesn't currently support widgets.\n",
       "</p>\n"
      ],
      "text/plain": [
       "HBox(children=(IntProgress(value=0, description='Epoch', max=7), HTML(value='')))"
      ]
     },
     "metadata": {},
     "output_type": "display_data"
    },
    {
     "name": "stdout",
     "output_type": "stream",
     "text": [
      " 34%|███▍      | 60/175 [00:07<00:15,  7.51it/s, loss=0.255] \n",
      " 35%|███▌      | 62/175 [00:08<00:15,  7.51it/s, loss=0.256]"
     ]
    },
    {
     "name": "stderr",
     "output_type": "stream",
     "text": [
      "Exception in thread Thread-28:\n",
      "Traceback (most recent call last):\n",
      "  File \"/opt/conda/envs/fastai/lib/python3.6/threading.py\", line 916, in _bootstrap_inner\n",
      "    self.run()\n",
      "  File \"/opt/conda/envs/fastai/lib/python3.6/site-packages/tqdm/_tqdm.py\", line 144, in run\n",
      "    for instance in self.tqdm_cls._instances:\n",
      "  File \"/opt/conda/envs/fastai/lib/python3.6/_weakrefset.py\", line 60, in __iter__\n",
      "    for itemref in self.data:\n",
      "RuntimeError: Set changed size during iteration\n",
      "\n"
     ]
    },
    {
     "name": "stdout",
     "output_type": "stream",
     "text": [
      "epoch      trn_loss   val_loss   accuracy                    \n",
      "    0      0.257741   0.242011   0.904821  \n",
      "    1      0.235618   0.240923   0.905179                    \n",
      "    2      0.240564   0.240995   0.90375                     \n",
      "    3      0.251608   0.23862    0.907143                    \n",
      "    4      0.238753   0.238763   0.904464                    \n",
      "    5      0.238443   0.237216   0.908929                    \n",
      "    6      0.236408   0.237641   0.907679                    \n",
      "\n"
     ]
    },
    {
     "data": {
      "text/plain": [
       "[array([0.23764]), 0.9076785714285714]"
      ]
     },
     "execution_count": 27,
     "metadata": {},
     "output_type": "execute_result"
    }
   ],
   "source": [
    "learn.fit(0.0001, 3, cycle_len=1, cycle_mult=2)"
   ]
  },
  {
   "cell_type": "code",
   "execution_count": 32,
   "metadata": {
    "collapsed": true
   },
   "outputs": [],
   "source": [
    "learn.set_data(data)"
   ]
  },
  {
   "cell_type": "code",
   "execution_count": 34,
   "metadata": {
    "collapsed": true
   },
   "outputs": [],
   "source": [
    "lprobs = learn.predict()"
   ]
  },
  {
   "cell_type": "code",
   "execution_count": 36,
   "metadata": {},
   "outputs": [
    {
     "ename": "AttributeError",
     "evalue": "'SiameseDataset' object has no attribute 'y'",
     "output_type": "error",
     "traceback": [
      "\u001b[0;31m---------------------------------------------------------------------------\u001b[0m",
      "\u001b[0;31mAttributeError\u001b[0m                            Traceback (most recent call last)",
      "\u001b[0;32m<ipython-input-36-9c2ca6222503>\u001b[0m in \u001b[0;36m<module>\u001b[0;34m()\u001b[0m\n\u001b[0;32m----> 1\u001b[0;31m \u001b[0mlearn\u001b[0m\u001b[0;34m.\u001b[0m\u001b[0mdata\u001b[0m\u001b[0;34m.\u001b[0m\u001b[0mval_ds\u001b[0m\u001b[0;34m.\u001b[0m\u001b[0my\u001b[0m\u001b[0;34m\u001b[0m\u001b[0m\n\u001b[0m",
      "\u001b[0;31mAttributeError\u001b[0m: 'SiameseDataset' object has no attribute 'y'"
     ]
    }
   ],
   "source": [
    "learn.data.val_dl"
   ]
  }
 ],
 "metadata": {
  "kernelspec": {
   "display_name": "Python [default]",
   "language": "python",
   "name": "python3"
  },
  "language_info": {
   "codemirror_mode": {
    "name": "ipython",
    "version": 3
   },
   "file_extension": ".py",
   "mimetype": "text/x-python",
   "name": "python",
   "nbconvert_exporter": "python",
   "pygments_lexer": "ipython3",
   "version": "3.6.3"
  }
 },
 "nbformat": 4,
 "nbformat_minor": 2
}
