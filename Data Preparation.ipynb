{
 "cells": [
  {
   "cell_type": "code",
   "execution_count": 1,
   "metadata": {},
   "outputs": [
    {
     "name": "stdout",
     "output_type": "stream",
     "text": [
      "Cloning into 'omniglot'...\n",
      "remote: Counting objects: 67, done.\u001b[K\n",
      "remote: Total 67 (delta 0), reused 0 (delta 0), pack-reused 67\u001b[K\n",
      "Unpacking objects: 100% (67/67), done.\n"
     ]
    }
   ],
   "source": [
    "!git clone https://github.com/brendenlake/omniglot.git"
   ]
  },
  {
   "cell_type": "code",
   "execution_count": 2,
   "metadata": {
    "collapsed": true
   },
   "outputs": [],
   "source": [
    "!mkdir data\n",
    "!mv omniglot data"
   ]
  },
  {
   "cell_type": "code",
   "execution_count": 3,
   "metadata": {
    "collapsed": true
   },
   "outputs": [],
   "source": [
    "!unzip -qq -d ./data data/omniglot/python/images_background_small1.zip"
   ]
  },
  {
   "cell_type": "code",
   "execution_count": 4,
   "metadata": {},
   "outputs": [
    {
     "name": "stdout",
     "output_type": "stream",
     "text": [
      "\u001b[34mimages_background_small1\u001b[m\u001b[m \u001b[34momniglot\u001b[m\u001b[m\r\n"
     ]
    }
   ],
   "source": [
    "!ls data"
   ]
  },
  {
   "cell_type": "code",
   "execution_count": 5,
   "metadata": {
    "collapsed": true
   },
   "outputs": [],
   "source": [
    "import numpy as np\n",
    "from tqdm import tqdm"
   ]
  },
  {
   "cell_type": "code",
   "execution_count": 7,
   "metadata": {
    "collapsed": true
   },
   "outputs": [],
   "source": [
    "path = './data/'"
   ]
  },
  {
   "cell_type": "code",
   "execution_count": 8,
   "metadata": {
    "collapsed": true
   },
   "outputs": [],
   "source": [
    "!mkdir -p {path}train\n",
    "!mkdir -p {path}valid"
   ]
  },
  {
   "cell_type": "code",
   "execution_count": 9,
   "metadata": {
    "collapsed": true
   },
   "outputs": [],
   "source": [
    "alphabets = !ls {path}images_background_small1"
   ]
  },
  {
   "cell_type": "code",
   "execution_count": 10,
   "metadata": {
    "collapsed": true
   },
   "outputs": [],
   "source": [
    "for alph in alphabets[1:]:\n",
    "    chars = !ls {path}images_background_small1/{alph}\n",
    "    for char in chars:\n",
    "        !cp -a {path}images_background_small1/{alph}/{char} {path}train/{alph}_{char}"
   ]
  },
  {
   "cell_type": "code",
   "execution_count": 11,
   "metadata": {
    "collapsed": true
   },
   "outputs": [],
   "source": [
    "val_pct = 0.2"
   ]
  },
  {
   "cell_type": "code",
   "execution_count": 12,
   "metadata": {},
   "outputs": [
    {
     "name": "stderr",
     "output_type": "stream",
     "text": [
      "100%|██████████| 112/112 [01:06<00:00,  1.68it/s]\n"
     ]
    }
   ],
   "source": [
    "chars = !ls {path}train\n",
    "for char in tqdm(chars):\n",
    "    !mkdir -p {path}valid/{char}\n",
    "    images = !ls {path}train/{char}\n",
    "    np.random.shuffle(images)\n",
    "    for img in images[0:int(len(images)*val_pct)]:\n",
    "        !mv {path}train/{char}/{img} {path}valid/{char}/"
   ]
  },
  {
   "cell_type": "code",
   "execution_count": 13,
   "metadata": {},
   "outputs": [
    {
     "name": "stdout",
     "output_type": "stream",
     "text": [
      "0251_01.png 0251_06.png 0251_09.png 0251_12.png 0251_16.png 0251_20.png\r\n",
      "0251_02.png 0251_07.png 0251_10.png 0251_13.png 0251_18.png\r\n",
      "0251_04.png 0251_08.png 0251_11.png 0251_14.png 0251_19.png\r\n"
     ]
    }
   ],
   "source": [
    "!ls data/train/Early_Aramaic_character01"
   ]
  },
  {
   "cell_type": "code",
   "execution_count": 14,
   "metadata": {
    "collapsed": true
   },
   "outputs": [],
   "source": [
    "!mkdir {path}test"
   ]
  },
  {
   "cell_type": "code",
   "execution_count": 15,
   "metadata": {
    "collapsed": true
   },
   "outputs": [],
   "source": [
    "for alph in alphabets[0:1]:\n",
    "    chars = !ls {path}images_background_small1/{alph}\n",
    "    for char in chars:\n",
    "        !cp -a {path}images_background_small1/{alph}/{char} {path}test/{alph}_{char}"
   ]
  },
  {
   "cell_type": "code",
   "execution_count": 16,
   "metadata": {},
   "outputs": [
    {
     "name": "stdout",
     "output_type": "stream",
     "text": [
      "\u001b[34mimages_background_small1\u001b[m\u001b[m \u001b[34mtest\u001b[m\u001b[m                     \u001b[34mvalid\u001b[m\u001b[m\r\n",
      "\u001b[34momniglot\u001b[m\u001b[m                 \u001b[34mtrain\u001b[m\u001b[m\r\n"
     ]
    }
   ],
   "source": [
    "!ls data"
   ]
  }
 ],
 "metadata": {
  "kernelspec": {
   "display_name": "Python [default]",
   "language": "python",
   "name": "python3"
  },
  "language_info": {
   "codemirror_mode": {
    "name": "ipython",
    "version": 3
   },
   "file_extension": ".py",
   "mimetype": "text/x-python",
   "name": "python",
   "nbconvert_exporter": "python",
   "pygments_lexer": "ipython3",
   "version": "3.6.3"
  }
 },
 "nbformat": 4,
 "nbformat_minor": 2
}
